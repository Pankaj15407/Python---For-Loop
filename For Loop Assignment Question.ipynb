{
 "cells": [
  {
   "cell_type": "code",
   "execution_count": 1,
   "id": "03ab2d54-d087-43d8-a4b0-87d8f67ffe7b",
   "metadata": {},
   "outputs": [
    {
     "name": "stdout",
     "output_type": "stream",
     "text": [
      "1\n",
      "2\n",
      "3\n",
      "4\n",
      "5\n",
      "6\n",
      "7\n",
      "8\n",
      "9\n",
      "10\n"
     ]
    }
   ],
   "source": [
    "# Problem 1\n",
    "# Write a Python program to print the numbers from 1 to 10 using a `for` loop.\n",
    "\n",
    "\n",
    "for number in range(1, 11):\n",
    "    print(number)\n",
    "\n"
   ]
  },
  {
   "cell_type": "code",
   "execution_count": 1,
   "id": "aae6072f-9a50-4e0f-b5aa-5a364042c522",
   "metadata": {},
   "outputs": [
    {
     "name": "stdout",
     "output_type": "stream",
     "text": [
      "The sum of the numbers in the list is: 15\n"
     ]
    }
   ],
   "source": [
    "# Problem 2\n",
    "# Create a program that calculates the sum of all numbers in a list using a `for` loop.\n",
    "\n",
    "\n",
    "def calculate_sum(numbers):\n",
    "    total_sum = 0\n",
    "    for number in numbers:\n",
    "        total_sum += number\n",
    "    return total_sum\n",
    "\n",
    "\n",
    "my_list = [1, 2, 3, 4, 5]\n",
    "result = calculate_sum(my_list)\n",
    "print(f\"The sum of the numbers in the list is: {result}\")\n"
   ]
  },
  {
   "cell_type": "code",
   "execution_count": 3,
   "id": "450934a7-b28a-4cc0-94d8-41724a90b038",
   "metadata": {},
   "outputs": [
    {
     "name": "stdout",
     "output_type": "stream",
     "text": [
      "The original string: Hello, World!\n",
      "The string in reverse order: !dlroW ,olleH\n"
     ]
    }
   ],
   "source": [
    "# Problem 3\n",
    "# Write a program to print the characters of a string in reverse order using a `for` loop.\n",
    "\n",
    "\n",
    "def reverse_string(input_string):\n",
    "    reversed_string = \"\"\n",
    "    for char in reversed(input_string):\n",
    "        reversed_string += char\n",
    "    return reversed_string\n",
    "\n",
    "\n",
    "original_string = \"Hello, World!\"\n",
    "reversed_result = reverse_string(original_string)\n",
    "print(f\"The original string: {original_string}\")\n",
    "print(f\"The string in reverse order: {reversed_result}\")\n"
   ]
  },
  {
   "cell_type": "code",
   "execution_count": 5,
   "id": "96c29a11-902a-4617-beda-a87ea42638b2",
   "metadata": {},
   "outputs": [
    {
     "name": "stdin",
     "output_type": "stream",
     "text": [
      "Enter a number to calculate its factorial:  3\n"
     ]
    },
    {
     "name": "stdout",
     "output_type": "stream",
     "text": [
      "The factorial of 3 is: 6\n"
     ]
    }
   ],
   "source": [
    "# Problem 4\n",
    "# Develop a program that finds the factorial of a given number using a `for` loop.\n",
    "\n",
    "\n",
    "def calculate_factorial(number):\n",
    "    factorial_result = 1\n",
    "    for i in range(1, number + 1):\n",
    "        factorial_result *= i\n",
    "    return factorial_result\n",
    "\n",
    "\n",
    "user_input = int(input(\"Enter a number to calculate its factorial: \"))\n",
    "result = calculate_factorial(user_input)\n",
    "print(f\"The factorial of {user_input} is: {result}\")\n"
   ]
  },
  {
   "cell_type": "code",
   "execution_count": 7,
   "id": "a719301c-2bd4-48c7-81bd-5da3cca5ee48",
   "metadata": {},
   "outputs": [
    {
     "name": "stdin",
     "output_type": "stream",
     "text": [
      "Enter a number to print its multiplication table:  5\n"
     ]
    },
    {
     "name": "stdout",
     "output_type": "stream",
     "text": [
      "Multiplication table for 5:\n",
      "5 x 1 = 5\n",
      "5 x 2 = 10\n",
      "5 x 3 = 15\n",
      "5 x 4 = 20\n",
      "5 x 5 = 25\n",
      "5 x 6 = 30\n",
      "5 x 7 = 35\n",
      "5 x 8 = 40\n",
      "5 x 9 = 45\n",
      "5 x 10 = 50\n"
     ]
    }
   ],
   "source": [
    "# Problem 5\n",
    "# Create a program to print the multiplication table of a given number using a `for` loop.\n",
    "\n",
    "\n",
    "\n",
    "def print_multiplication_table(number):\n",
    "    print(f\"Multiplication table for {number}:\")\n",
    "    for i in range(1, 11):\n",
    "        result = number * i\n",
    "        print(f\"{number} x {i} = {result}\")\n",
    "\n",
    "\n",
    "user_input = int(input(\"Enter a number to print its multiplication table: \"))\n",
    "print_multiplication_table(user_input)\n"
   ]
  },
  {
   "cell_type": "code",
   "execution_count": 9,
   "id": "3117e614-1cc8-4a64-8ad7-a3af596d1cf2",
   "metadata": {},
   "outputs": [
    {
     "name": "stdout",
     "output_type": "stream",
     "text": [
      "List: [1, 2, 3, 4, 5, 6, 7, 8, 9]\n",
      "Number of even numbers: 4\n",
      "Number of odd numbers: 5\n"
     ]
    }
   ],
   "source": [
    "# Problem 6\n",
    "# Write a program that counts the number of even and odd numbers in a list using a `for` loop.\n",
    "\n",
    "\n",
    "def count_even_odd(numbers):\n",
    "    even_count = 0\n",
    "    odd_count = 0\n",
    "\n",
    "    for number in numbers:\n",
    "        if number % 2 == 0:\n",
    "            even_count += 1\n",
    "        else:\n",
    "            odd_count += 1\n",
    "\n",
    "    return even_count, odd_count\n",
    "\n",
    "\n",
    "my_list = [1, 2, 3, 4, 5, 6, 7, 8, 9]\n",
    "even_count, odd_count = count_even_odd(my_list)\n",
    "\n",
    "print(f\"List: {my_list}\")\n",
    "print(f\"Number of even numbers: {even_count}\")\n",
    "print(f\"Number of odd numbers: {odd_count}\")\n"
   ]
  },
  {
   "cell_type": "code",
   "execution_count": 10,
   "id": "85691b58-ce11-4e8a-905b-216696df0130",
   "metadata": {},
   "outputs": [
    {
     "name": "stdout",
     "output_type": "stream",
     "text": [
      "The square of 1 is: 1\n",
      "The square of 2 is: 4\n",
      "The square of 3 is: 9\n",
      "The square of 4 is: 16\n",
      "The square of 5 is: 25\n"
     ]
    }
   ],
   "source": [
    "# Problem 7\n",
    "# Develop a program that prints the squares of numbers from 1 to 5 using a `for` loop.\n",
    "\n",
    "\n",
    "\n",
    "def print_squares():\n",
    "    for i in range(1, 6):\n",
    "        square = i ** 2\n",
    "        print(f\"The square of {i} is: {square}\")\n",
    "\n",
    "\n",
    "print_squares()\n"
   ]
  },
  {
   "cell_type": "code",
   "execution_count": 11,
   "id": "f8e6d651-71f6-4a4c-b65a-b3c27d52f6bb",
   "metadata": {},
   "outputs": [
    {
     "name": "stdin",
     "output_type": "stream",
     "text": [
      "Enter a string:  Physicswallah\n"
     ]
    },
    {
     "name": "stdout",
     "output_type": "stream",
     "text": [
      "The length of the string is: 13\n"
     ]
    }
   ],
   "source": [
    "# Problem 8\n",
    "# Create a program to find the length of a string without using the `len()` function.\n",
    "\n",
    "\n",
    "def calculate_string_length(input_string):\n",
    "    length = 0\n",
    "    for _ in input_string:\n",
    "        length += 1\n",
    "    return length\n",
    "\n",
    "\n",
    "user_input = input(\"Enter a string: \")\n",
    "result = calculate_string_length(user_input)\n",
    "print(f\"The length of the string is: {result}\")\n"
   ]
  },
  {
   "cell_type": "code",
   "execution_count": 12,
   "id": "038a2ad5-0bf3-4e03-910e-c1b4037244d5",
   "metadata": {},
   "outputs": [
    {
     "name": "stdout",
     "output_type": "stream",
     "text": [
      "The average of the numbers in the list is: 30.0\n"
     ]
    }
   ],
   "source": [
    "# Problem 9\n",
    "#  Write a program that calculates the average of a list of numbers using a `for` loop.\n",
    "\n",
    "\n",
    "\n",
    "def calculate_average(numbers):\n",
    "    total_sum = 0\n",
    "    count = 0\n",
    "\n",
    "    for number in numbers:\n",
    "        total_sum += number\n",
    "        count += 1\n",
    "\n",
    "    if count == 0:\n",
    "        return 0  # Avoid division by zero\n",
    "\n",
    "    average = total_sum / count\n",
    "    return average\n",
    "\n",
    "\n",
    "my_list = [10, 20, 30, 40, 50]\n",
    "result = calculate_average(my_list)\n",
    "print(f\"The average of the numbers in the list is: {result}\")\n"
   ]
  },
  {
   "cell_type": "code",
   "execution_count": 13,
   "id": "c34b7faa-8c50-4a63-a5d7-e2bfe1b7cc2d",
   "metadata": {},
   "outputs": [
    {
     "name": "stdin",
     "output_type": "stream",
     "text": [
      "Enter the value of 'n' for Fibonacci sequence:  12\n"
     ]
    },
    {
     "name": "stdout",
     "output_type": "stream",
     "text": [
      "The first 12 Fibonacci numbers are: [0, 1, 1, 2, 3, 5, 8, 13, 21, 34, 55, 89]\n"
     ]
    }
   ],
   "source": [
    "# Problem 10\n",
    "# Develop a program that prints the first `n` Fibonacci numbers using a `for` loop.\n",
    "\n",
    "\n",
    "\n",
    "def print_fibonacci_numbers(n):\n",
    "    fibonacci_sequence = [0, 1]\n",
    "\n",
    "    for _ in range(2, n):\n",
    "        next_number = fibonacci_sequence[-1] + fibonacci_sequence[-2]\n",
    "        fibonacci_sequence.append(next_number)\n",
    "\n",
    "    print(f\"The first {n} Fibonacci numbers are: {fibonacci_sequence}\")\n",
    "\n",
    "\n",
    "user_input = int(input(\"Enter the value of 'n' for Fibonacci sequence: \"))\n",
    "print_fibonacci_numbers(user_input)\n"
   ]
  },
  {
   "cell_type": "code",
   "execution_count": 14,
   "id": "ef2b5631-8774-49a7-81ec-9ddb81384020",
   "metadata": {},
   "outputs": [
    {
     "name": "stdout",
     "output_type": "stream",
     "text": [
      "The list contains duplicates.\n"
     ]
    }
   ],
   "source": [
    "# Problem 11\n",
    "# Write a program to check if a given list contains any duplicates using a `for` loop.\n",
    "\n",
    "\n",
    "\n",
    "def has_duplicates(my_list):\n",
    "    seen = set()\n",
    "    for item in my_list:\n",
    "        if item in seen:\n",
    "            return True\n",
    "        seen.add(item)\n",
    "    return False\n",
    "\n",
    "\n",
    "user_list = [1, 2, 3, 4, 5, 1]\n",
    "result = has_duplicates(user_list)\n",
    "\n",
    "if result:\n",
    "    print(\"The list contains duplicates.\")\n",
    "else:\n",
    "    print(\"The list does not contain duplicates.\")\n"
   ]
  },
  {
   "cell_type": "code",
   "execution_count": 1,
   "id": "2e0d8240-5623-4c94-8634-953131407aed",
   "metadata": {},
   "outputs": [
    {
     "name": "stdin",
     "output_type": "stream",
     "text": [
      "Enter the starting number of the range:  1\n",
      "Enter the ending number of the range:  100\n"
     ]
    },
    {
     "name": "stdout",
     "output_type": "stream",
     "text": [
      "Prime numbers in the range 1 to 100:\n",
      "2\n",
      "3\n",
      "5\n",
      "7\n",
      "11\n",
      "13\n",
      "17\n",
      "19\n",
      "23\n",
      "29\n",
      "31\n",
      "37\n",
      "41\n",
      "43\n",
      "47\n",
      "53\n",
      "59\n",
      "61\n",
      "67\n",
      "71\n",
      "73\n",
      "79\n",
      "83\n",
      "89\n",
      "97\n"
     ]
    }
   ],
   "source": [
    "# Problem 12\n",
    "# Create a program that prints the prime numbers in a given range using a `for` loop.\n",
    "\n",
    "\n",
    "\n",
    "def is_prime(num):\n",
    "    if num < 2:\n",
    "        return False\n",
    "    for i in range(2, int(num**0.5) + 1):\n",
    "        if num % i == 0:\n",
    "            return False\n",
    "    return True\n",
    "\n",
    "def print_primes_in_range(start, end):\n",
    "    print(f\"Prime numbers in the range {start} to {end}:\")\n",
    "    for number in range(start, end + 1):\n",
    "        if is_prime(number):\n",
    "            print(number)\n",
    "\n",
    "\n",
    "start_range = int(input(\"Enter the starting number of the range: \"))\n",
    "end_range = int(input(\"Enter the ending number of the range: \"))\n",
    "\n",
    "print_primes_in_range(start_range, end_range)\n"
   ]
  },
  {
   "cell_type": "code",
   "execution_count": 2,
   "id": "0755aee2-876b-4977-bd12-869c7623d25d",
   "metadata": {},
   "outputs": [
    {
     "name": "stdin",
     "output_type": "stream",
     "text": [
      "Enter a string:  Physicswallah\n"
     ]
    },
    {
     "name": "stdout",
     "output_type": "stream",
     "text": [
      "The number of vowels in the string is: 3\n"
     ]
    }
   ],
   "source": [
    "# Problem 13\n",
    "# Develop a program that counts the number of vowels in a string using a `for` loop.\n",
    "\n",
    "\n",
    "def count_vowels(input_string):\n",
    "    vowels = \"aeiouAEIOU\"\n",
    "    vowel_count = 0\n",
    "\n",
    "    for char in input_string:\n",
    "        if char in vowels:\n",
    "            vowel_count += 1\n",
    "\n",
    "    return vowel_count\n",
    "\n",
    "\n",
    "user_input = input(\"Enter a string: \")\n",
    "result = count_vowels(user_input)\n",
    "print(f\"The number of vowels in the string is: {result}\")\n"
   ]
  },
  {
   "cell_type": "code",
   "execution_count": 4,
   "id": "7923b319-b2b7-468b-ab47-92bce378dc8c",
   "metadata": {},
   "outputs": [
    {
     "name": "stdout",
     "output_type": "stream",
     "text": [
      "The maximum element in the 2D list is: 9\n"
     ]
    }
   ],
   "source": [
    "# Problem 14\n",
    "# Write a program to find the maximum element in a 2D list using a nested `for` loop.\n",
    "\n",
    "\n",
    "def find_max_element(matrix):\n",
    "    if not matrix:\n",
    "        return None  # Return None for an empty matrix\n",
    "\n",
    "    max_element = matrix[0][0]\n",
    "\n",
    "    for row in matrix:\n",
    "        for element in row:\n",
    "            if element > max_element:\n",
    "                max_element = element\n",
    "\n",
    "    return max_element\n",
    "\n",
    "my_2d_list = [\n",
    "    [3, 7, 1],\n",
    "    [5, 2, 9],\n",
    "    [8, 4, 6]\n",
    "]\n",
    "\n",
    "max_value = find_max_element(my_2d_list)\n",
    "print(f\"The maximum element in the 2D list is: {max_value}\")\n"
   ]
  },
  {
   "cell_type": "code",
   "execution_count": 5,
   "id": "63d6a17a-98ab-4404-b396-5a8f963f0b9c",
   "metadata": {},
   "outputs": [
    {
     "name": "stdout",
     "output_type": "stream",
     "text": [
      "Original list: [1, 2, 3, 4, 2, 5, 2, 6]\n",
      "List after removing 2: [1, 3, 4, 5, 6]\n"
     ]
    }
   ],
   "source": [
    "# Problem 15\n",
    "# Create a program that removes all occurrences of a specific element from a list using a `for` loop.\n",
    "\n",
    "\n",
    "def remove_element(lst, element_to_remove):\n",
    "    modified_list = [item for item in lst if item != element_to_remove]\n",
    "    return modified_list\n",
    "\n",
    "\n",
    "original_list = [1, 2, 3, 4, 2, 5, 2, 6]\n",
    "element_to_remove = 2\n",
    "\n",
    "modified_list = remove_element(original_list, element_to_remove)\n",
    "\n",
    "print(f\"Original list: {original_list}\")\n",
    "print(f\"List after removing {element_to_remove}: {modified_list}\")\n"
   ]
  },
  {
   "cell_type": "code",
   "execution_count": 6,
   "id": "4ebb1ed0-39ea-4b7c-ba1a-02b9552ed5f0",
   "metadata": {},
   "outputs": [
    {
     "name": "stdout",
     "output_type": "stream",
     "text": [
      "Multiplication table for 1:\n",
      "1 x 1 = 1\n",
      "1 x 2 = 2\n",
      "1 x 3 = 3\n",
      "1 x 4 = 4\n",
      "1 x 5 = 5\n",
      "1 x 6 = 6\n",
      "1 x 7 = 7\n",
      "1 x 8 = 8\n",
      "1 x 9 = 9\n",
      "1 x 10 = 10\n",
      "\n",
      "Multiplication table for 2:\n",
      "2 x 1 = 2\n",
      "2 x 2 = 4\n",
      "2 x 3 = 6\n",
      "2 x 4 = 8\n",
      "2 x 5 = 10\n",
      "2 x 6 = 12\n",
      "2 x 7 = 14\n",
      "2 x 8 = 16\n",
      "2 x 9 = 18\n",
      "2 x 10 = 20\n",
      "\n",
      "Multiplication table for 3:\n",
      "3 x 1 = 3\n",
      "3 x 2 = 6\n",
      "3 x 3 = 9\n",
      "3 x 4 = 12\n",
      "3 x 5 = 15\n",
      "3 x 6 = 18\n",
      "3 x 7 = 21\n",
      "3 x 8 = 24\n",
      "3 x 9 = 27\n",
      "3 x 10 = 30\n",
      "\n",
      "Multiplication table for 4:\n",
      "4 x 1 = 4\n",
      "4 x 2 = 8\n",
      "4 x 3 = 12\n",
      "4 x 4 = 16\n",
      "4 x 5 = 20\n",
      "4 x 6 = 24\n",
      "4 x 7 = 28\n",
      "4 x 8 = 32\n",
      "4 x 9 = 36\n",
      "4 x 10 = 40\n",
      "\n",
      "Multiplication table for 5:\n",
      "5 x 1 = 5\n",
      "5 x 2 = 10\n",
      "5 x 3 = 15\n",
      "5 x 4 = 20\n",
      "5 x 5 = 25\n",
      "5 x 6 = 30\n",
      "5 x 7 = 35\n",
      "5 x 8 = 40\n",
      "5 x 9 = 45\n",
      "5 x 10 = 50\n",
      "\n"
     ]
    }
   ],
   "source": [
    "# Problem 16\n",
    "#  Develop a program that generates a multiplication table for numbers from 1 to 5 using a nested `for` loop.\n",
    "\n",
    "\n",
    "def generate_multiplication_table():\n",
    "    for i in range(1, 6):\n",
    "        print(f\"Multiplication table for {i}:\")\n",
    "        for j in range(1, 11):\n",
    "            result = i * j\n",
    "            print(f\"{i} x {j} = {result}\")\n",
    "        print()  # Add a newline for better readability\n",
    "\n",
    "\n",
    "generate_multiplication_table()\n"
   ]
  },
  {
   "cell_type": "code",
   "execution_count": 7,
   "id": "ceda3fcb-f873-4e5d-815f-50dcb986f350",
   "metadata": {},
   "outputs": [
    {
     "name": "stdout",
     "output_type": "stream",
     "text": [
      "Fahrenheit temperatures: [32, 68, 104, 212]\n",
      "Celsius temperatures: [0.0, 20.0, 40.0, 100.0]\n"
     ]
    }
   ],
   "source": [
    "# Problem 17\n",
    "# Write a program that converts a list of Fahrenheit temperatures to Celsius using a `for` loop.\n",
    "\n",
    "\n",
    "\n",
    "def fahrenheit_to_celsius(fahrenheit_temps):\n",
    "    celsius_temps = []\n",
    "\n",
    "    for fahrenheit in fahrenheit_temps:\n",
    "        celsius = (fahrenheit - 32) * 5/9\n",
    "        celsius_temps.append(celsius)\n",
    "\n",
    "    return celsius_temps\n",
    "\n",
    "\n",
    "fahrenheit_temperatures = [32, 68, 104, 212]\n",
    "celsius_temperatures = fahrenheit_to_celsius(fahrenheit_temperatures)\n",
    "\n",
    "print(f\"Fahrenheit temperatures: {fahrenheit_temperatures}\")\n",
    "print(f\"Celsius temperatures: {celsius_temperatures}\")\n"
   ]
  },
  {
   "cell_type": "code",
   "execution_count": 8,
   "id": "25c7bf2b-c740-4146-8322-dd600ad333ec",
   "metadata": {},
   "outputs": [
    {
     "name": "stdout",
     "output_type": "stream",
     "text": [
      "Common elements: [3, 4, 5]\n"
     ]
    }
   ],
   "source": [
    "# Problem 18\n",
    "# Create a program to print the common elements from two lists using a `for` loop.\n",
    "\n",
    "\n",
    "def find_common_elements(list1, list2):\n",
    "    common_elements = []\n",
    "\n",
    "    for element in list1:\n",
    "        if element in list2 and element not in common_elements:\n",
    "            common_elements.append(element)\n",
    "\n",
    "    return common_elements\n",
    "\n",
    "\n",
    "list1 = [1, 2, 3, 4, 5]\n",
    "list2 = [3, 4, 5, 6, 7]\n",
    "\n",
    "common_elements_result = find_common_elements(list1, list2)\n",
    "\n",
    "if common_elements_result:\n",
    "    print(f\"Common elements: {common_elements_result}\")\n",
    "else:\n",
    "    print(\"There are no common elements.\")\n"
   ]
  },
  {
   "cell_type": "code",
   "execution_count": 12,
   "id": "62c2dee9-0d77-4b72-bcb7-9e33468cbf70",
   "metadata": {},
   "outputs": [
    {
     "name": "stdin",
     "output_type": "stream",
     "text": [
      "Enter the height of the right-angled triangle:  7\n"
     ]
    },
    {
     "name": "stdout",
     "output_type": "stream",
     "text": [
      "*\n",
      "**\n",
      "***\n",
      "****\n",
      "*****\n",
      "******\n",
      "*******\n"
     ]
    }
   ],
   "source": [
    "# Problem 19\n",
    "# Develop a program that prints the pattern of right-angled triangles using a `for` loop. Use ‘*’ to draw the pattern\n",
    "\n",
    "\n",
    "\n",
    "def print_right_angle_triangle(height):\n",
    "    for i in range(1, height + 1):\n",
    "        print('*' * i)\n",
    "\n",
    "\n",
    "user_height = int(input(\"Enter the height of the right-angled triangle: \"))\n",
    "print_right_angle_triangle(user_height)\n"
   ]
  },
  {
   "cell_type": "code",
   "execution_count": 15,
   "id": "36908899-4e4d-4525-8d06-fefeb5b4749f",
   "metadata": {},
   "outputs": [
    {
     "name": "stdin",
     "output_type": "stream",
     "text": [
      "Enter the first number:  10\n",
      "Enter the second number:  20\n"
     ]
    },
    {
     "name": "stdout",
     "output_type": "stream",
     "text": [
      "The GCD of 10 and 20 is: 10\n"
     ]
    }
   ],
   "source": [
    "# Problem 20\n",
    "#  Write a program to find the greatest common divisor (GCD) of two numbers using a `for` loop.\n",
    "\n",
    "\n",
    "\n",
    "def calculate_gcd(num1, num2):\n",
    "    \n",
    "    if num1 < num2:\n",
    "        num1, num2 = num2, num1\n",
    "\n",
    "    for i in range(num2, 0, -1):\n",
    "        if num1 % i == 0 and num2 % i == 0:\n",
    "            return i\n",
    "\n",
    "    return 1  \n",
    "\n",
    "\n",
    "user_num1 = int(input(\"Enter the first number: \"))\n",
    "user_num2 = int(input(\"Enter the second number: \"))\n",
    "\n",
    "result = calculate_gcd(user_num1, user_num2)\n",
    "print(f\"The GCD of {user_num1} and {user_num2} is: {result}\")\n"
   ]
  },
  {
   "cell_type": "code",
   "execution_count": 16,
   "id": "5de05e6c-8b88-4138-84fd-8dbffd2b13b5",
   "metadata": {},
   "outputs": [
    {
     "name": "stdout",
     "output_type": "stream",
     "text": [
      "Original list: [123, 45, 6789, 9876]\n",
      "Sum of digits in the list: [6, 9, 30, 30]\n"
     ]
    }
   ],
   "source": [
    "# Problem 21\n",
    "# Create a program that calculates the sum of the digits of numbers in a list using a list comprehension.\n",
    "\n",
    "\n",
    "def sum_of_digits(number):\n",
    "    return sum(int(digit) for digit in str(number) if digit.isdigit())\n",
    "\n",
    "def sum_of_digits_in_list(numbers):\n",
    "    return [sum_of_digits(num) for num in numbers]\n",
    "\n",
    "\n",
    "my_list = [123, 45, 6789, 9876]\n",
    "result = sum_of_digits_in_list(my_list)\n",
    "\n",
    "print(f\"Original list: {my_list}\")\n",
    "print(f\"Sum of digits in the list: {result}\")\n"
   ]
  },
  {
   "cell_type": "code",
   "execution_count": 19,
   "id": "eb545f38-0a91-4ce0-adf5-41121a6c46b8",
   "metadata": {},
   "outputs": [
    {
     "name": "stdin",
     "output_type": "stream",
     "text": [
      "Enter a number to find its prime factors:  122\n"
     ]
    },
    {
     "name": "stdout",
     "output_type": "stream",
     "text": [
      "The prime factors of 122 are: [2, 61]\n"
     ]
    }
   ],
   "source": [
    "# Problem 22\n",
    "# Write a program to find the prime factors of a given number using a `for` loop and list comprehension\n",
    "\n",
    "\n",
    "def find_prime_factors(number):\n",
    "    factors = [factor for factor in range(2, number + 1) if (number % factor == 0) and all(factor % i != 0 for i in range(2, factor))]\n",
    "    return factors\n",
    "\n",
    "\n",
    "user_number = int(input(\"Enter a number to find its prime factors: \"))\n",
    "prime_factors = find_prime_factors(user_number)\n",
    "\n",
    "if prime_factors:\n",
    "    print(f\"The prime factors of {user_number} are: {prime_factors}\")\n",
    "else:\n",
    "    print(f\"{user_number} has no prime factors other than 1 and itself.\")\n"
   ]
  },
  {
   "cell_type": "code",
   "execution_count": 21,
   "id": "bcf70399-d12a-47bc-bc18-d4a8f0ebb388",
   "metadata": {},
   "outputs": [
    {
     "name": "stdout",
     "output_type": "stream",
     "text": [
      "Original list: [1, 2, 2, 3, 4, 4, 5, 6, 6, 7]\n",
      "Unique elements: [1, 2, 3, 4, 5, 6, 7]\n"
     ]
    }
   ],
   "source": [
    "# Problem 23\n",
    "# Develop a program that extracts unique elements from a list and stores them in a new list using a list comprehension.\n",
    "\n",
    "def extract_unique_elements(input_list):\n",
    "    unique_elements = [element for index, element in enumerate(input_list) if element not in input_list[:index]]\n",
    "    return unique_elements\n",
    "\n",
    "\n",
    "my_list = [1, 2, 2, 3, 4, 4, 5, 6, 6, 7]\n",
    "unique_elements = extract_unique_elements(my_list)\n",
    "\n",
    "print(f\"Original list: {my_list}\")\n",
    "print(f\"Unique elements: {unique_elements}\")\n"
   ]
  },
  {
   "cell_type": "code",
   "execution_count": 22,
   "id": "e65b0fc4-25b6-420e-9b3d-159a7f7903a5",
   "metadata": {},
   "outputs": [
    {
     "name": "stdin",
     "output_type": "stream",
     "text": [
      "Enter the limit for generating palindromic numbers:  12\n"
     ]
    },
    {
     "name": "stdout",
     "output_type": "stream",
     "text": [
      "Palindromic numbers up to 12: [0, 1, 2, 3, 4, 5, 6, 7, 8, 9, 11]\n"
     ]
    }
   ],
   "source": [
    "# Problem 24\n",
    "# Create a program that generates a list of all palindromic numbers up to a specified limit using a list comprehension.\n",
    "\n",
    "\n",
    "def is_palindrome(number):\n",
    "    return str(number) == str(number)[::-1]\n",
    "\n",
    "def generate_palindromic_numbers(limit):\n",
    "    palindromic_numbers = [num for num in range(limit + 1) if is_palindrome(num)]\n",
    "    return palindromic_numbers\n",
    "\n",
    "\n",
    "user_limit = int(input(\"Enter the limit for generating palindromic numbers: \"))\n",
    "palindromic_numbers = generate_palindromic_numbers(user_limit)\n",
    "\n",
    "print(f\"Palindromic numbers up to {user_limit}: {palindromic_numbers}\")\n"
   ]
  },
  {
   "cell_type": "code",
   "execution_count": 23,
   "id": "7837dc21-1fba-423d-b114-987e36edf40a",
   "metadata": {},
   "outputs": [
    {
     "name": "stdout",
     "output_type": "stream",
     "text": [
      "Original nested list: [1, [2, 3], [4, [5, 6], 7], 8]\n",
      "Flattened list: [1, 2, 3, 4, [5, 6], 7, 8]\n"
     ]
    }
   ],
   "source": [
    "# Problem 25\n",
    "# Write a program to flatten a nested list using list comprehension.\n",
    "\n",
    "\n",
    "\n",
    "def flatten_nested_list(nested_list):\n",
    "    flattened_list = [item for sublist in nested_list for item in (sublist if isinstance(sublist, list) else [sublist])]\n",
    "    return flattened_list\n",
    "\n",
    "\n",
    "nested_list = [1, [2, 3], [4, [5, 6], 7], 8]\n",
    "flattened_result = flatten_nested_list(nested_list)\n",
    "\n",
    "print(f\"Original nested list: {nested_list}\")\n",
    "print(f\"Flattened list: {flattened_result}\")\n"
   ]
  },
  {
   "cell_type": "code",
   "execution_count": 24,
   "id": "d9352e60-dbe3-4bb6-ad36-651af34adafc",
   "metadata": {},
   "outputs": [
    {
     "name": "stdout",
     "output_type": "stream",
     "text": [
      "Original list: [1, 2, 3, 4, 5, 6, 7, 8, 9]\n",
      "Sum of even numbers: 20\n",
      "Sum of odd numbers: 25\n"
     ]
    }
   ],
   "source": [
    "# Problem 26\n",
    "# Develop a program that computes the sum of even and odd numbers in a list separately using list comprehension\n",
    "\n",
    "\n",
    "\n",
    "def compute_sum_of_even_odd(numbers):\n",
    "    even_sum = sum([num for num in numbers if num % 2 == 0])\n",
    "    odd_sum = sum([num for num in numbers if num % 2 != 0])\n",
    "    return even_sum, odd_sum\n",
    "\n",
    "\n",
    "my_list = [1, 2, 3, 4, 5, 6, 7, 8, 9]\n",
    "even_sum, odd_sum = compute_sum_of_even_odd(my_list)\n",
    "\n",
    "print(f\"Original list: {my_list}\")\n",
    "print(f\"Sum of even numbers: {even_sum}\")\n",
    "print(f\"Sum of odd numbers: {odd_sum}\")\n"
   ]
  },
  {
   "cell_type": "code",
   "execution_count": 25,
   "id": "4d55b83e-3b5b-4925-8a87-24444172de6d",
   "metadata": {},
   "outputs": [
    {
     "name": "stdout",
     "output_type": "stream",
     "text": [
      "Squares of odd numbers between 1 and 10: [1, 9, 25, 49, 81]\n"
     ]
    }
   ],
   "source": [
    "# Problem 27\n",
    "# Create a program that generates a list of squares of odd numbers between 1 and 10 using list comprehension.\n",
    "\n",
    "\n",
    "\n",
    "\n",
    "squares_of_odd_numbers = [num ** 2 for num in range(1, 11) if num % 2 != 0]\n",
    "\n",
    "\n",
    "print(f\"Squares of odd numbers between 1 and 10: {squares_of_odd_numbers}\")\n"
   ]
  },
  {
   "cell_type": "code",
   "execution_count": 27,
   "id": "bdb2786a-dd8a-463f-bf2c-472106819f4c",
   "metadata": {},
   "outputs": [
    {
     "name": "stdout",
     "output_type": "stream",
     "text": [
      "Combined dictionary: {'name': 'Pankaj', 'age': 28, 'city': 'Gaya'}\n"
     ]
    }
   ],
   "source": [
    "# Problem 28\n",
    "# Write a program that combines two lists into a dictionary using list comprehension.\n",
    "\n",
    "\n",
    "\n",
    "keys = ['name', 'age', 'city']\n",
    "values = ['Pankaj', 28, 'Gaya']\n",
    "\n",
    "\n",
    "combined_dict = {keys[i]: values[i] for i in range(min(len(keys), len(values)))}\n",
    "\n",
    "\n",
    "print(f\"Combined dictionary: {combined_dict}\")\n"
   ]
  },
  {
   "cell_type": "code",
   "execution_count": 28,
   "id": "9c7529a0-7f1d-4859-b6f5-b699b11e3e50",
   "metadata": {},
   "outputs": [
    {
     "name": "stdin",
     "output_type": "stream",
     "text": [
      "Enter a string:  democracy\n"
     ]
    },
    {
     "name": "stdout",
     "output_type": "stream",
     "text": [
      "The vowels in the string are: ['e', 'o', 'a']\n"
     ]
    }
   ],
   "source": [
    "# Problem 29\n",
    "# Develop a program that extracts the vowels from a string and stores them in a list using list comprehension.\n",
    "\n",
    "\n",
    "\n",
    "def extract_vowels(input_string):\n",
    "    vowels = [char for char in input_string if char.lower() in 'aeiou']\n",
    "    return vowels\n",
    "\n",
    "\n",
    "user_input = input(\"Enter a string: \")\n",
    "vowels_list = extract_vowels(user_input)\n",
    "\n",
    "print(f\"The vowels in the string are: {vowels_list}\")\n"
   ]
  },
  {
   "cell_type": "code",
   "execution_count": 29,
   "id": "6cfe1264-c4ea-4cfd-8031-c00af85838f0",
   "metadata": {},
   "outputs": [
    {
     "name": "stdout",
     "output_type": "stream",
     "text": [
      "Original list of strings: ['abc123', '456def', '789ghi', 'jkl']\n",
      "List after removing non-numeric characters: ['123', '456', '789', '']\n"
     ]
    }
   ],
   "source": [
    "# Problem 30\n",
    "# Create a program that removes all non-numeric characters from a list of strings using list comprehension.\n",
    "\n",
    "\n",
    "\n",
    "\n",
    "def remove_non_numeric(strings_list):\n",
    "    numeric_strings = [''.join(char for char in string if char.isdigit()) for string in strings_list]\n",
    "    return numeric_strings\n",
    "\n",
    "\n",
    "my_strings = ['abc123', '456def', '789ghi', 'jkl']\n",
    "result = remove_non_numeric(my_strings)\n",
    "\n",
    "print(f\"Original list of strings: {my_strings}\")\n",
    "print(f\"List after removing non-numeric characters: {result}\")\n"
   ]
  },
  {
   "cell_type": "code",
   "execution_count": 30,
   "id": "5e187809-33ae-4b36-9e40-711f87d62f76",
   "metadata": {},
   "outputs": [
    {
     "name": "stdin",
     "output_type": "stream",
     "text": [
      "Enter the limit to generate prime numbers:  13\n"
     ]
    },
    {
     "name": "stdout",
     "output_type": "stream",
     "text": [
      "Prime numbers up to 13: [2, 3, 5, 7, 11, 13]\n"
     ]
    }
   ],
   "source": [
    "# Problem 31\n",
    "# Write a program to generate a list of prime numbers using the Sieve of Eratosthenes algorithm and list comprehension\n",
    "\n",
    "\n",
    "\n",
    "def sieve_of_eratosthenes(limit):\n",
    "    sieve = [True] * (limit + 1)\n",
    "    sieve[0] = sieve[1] = False\n",
    "\n",
    "    for num in range(2, int(limit**0.5) + 1):\n",
    "        if sieve[num]:\n",
    "            sieve[num*num:limit+1:num] = [False] * len(sieve[num*num:limit+1:num])\n",
    "\n",
    "    primes = [num for num in range(2, limit + 1) if sieve[num]]\n",
    "    return primes\n",
    "\n",
    "\n",
    "user_limit = int(input(\"Enter the limit to generate prime numbers: \"))\n",
    "prime_numbers = sieve_of_eratosthenes(user_limit)\n",
    "\n",
    "print(f\"Prime numbers up to {user_limit}: {prime_numbers}\")\n"
   ]
  },
  {
   "cell_type": "code",
   "execution_count": 31,
   "id": "41adaf04-8252-4e31-81c5-3d7563810dd3",
   "metadata": {},
   "outputs": [
    {
     "name": "stdin",
     "output_type": "stream",
     "text": [
      "Enter the limit to generate Pythagorean triplets:  12\n"
     ]
    },
    {
     "name": "stdout",
     "output_type": "stream",
     "text": [
      "Pythagorean triplets up to 12: [(3, 4, 5), (6, 8, 10)]\n"
     ]
    }
   ],
   "source": [
    "# Problem 32\n",
    "# Create a program that generates a list of all Pythagorean triplets up to a specified limit using list comprehension.\n",
    "\n",
    "\n",
    "def generate_pythagorean_triplets(limit):\n",
    "    triplets = [(a, b, c) for a in range(1, limit + 1)\n",
    "                             for b in range(a, limit + 1)\n",
    "                             for c in range(b, limit + 1)\n",
    "                             if a**2 + b**2 == c**2]\n",
    "    return triplets\n",
    "\n",
    "\n",
    "user_limit = int(input(\"Enter the limit to generate Pythagorean triplets: \"))\n",
    "pythagorean_triplets = generate_pythagorean_triplets(user_limit)\n",
    "\n",
    "print(f\"Pythagorean triplets up to {user_limit}: {pythagorean_triplets}\")\n"
   ]
  },
  {
   "cell_type": "code",
   "execution_count": 32,
   "id": "265f6980-e4bf-4541-b53e-5ac32de9a240",
   "metadata": {},
   "outputs": [
    {
     "name": "stdout",
     "output_type": "stream",
     "text": [
      "All possible combinations of ['a', 'b', 'c'] and [1, 2, 3]: [('a', 1), ('a', 2), ('a', 3), ('b', 1), ('b', 2), ('b', 3), ('c', 1), ('c', 2), ('c', 3)]\n"
     ]
    }
   ],
   "source": [
    "# Problem 33\n",
    "# Develop a program that generates a list of all possible combinations of two lists using list comprehension\n",
    "\n",
    "\n",
    "def generate_combinations(list1, list2):\n",
    "    combinations = [(item1, item2) for item1 in list1 for item2 in list2]\n",
    "    return combinations\n",
    "\n",
    "\n",
    "list1 = ['a', 'b', 'c']\n",
    "list2 = [1, 2, 3]\n",
    "\n",
    "result = generate_combinations(list1, list2)\n",
    "\n",
    "print(f\"All possible combinations of {list1} and {list2}: {result}\")\n"
   ]
  },
  {
   "cell_type": "code",
   "execution_count": 33,
   "id": "98724715-27a3-488c-8490-089ff65280b0",
   "metadata": {},
   "outputs": [
    {
     "name": "stdout",
     "output_type": "stream",
     "text": [
      "Original list of numbers: [1, 2, 3, 4, 5, 5, 6, 6, 6, 7]\n",
      "Mean: 4.5\n",
      "Median: 5.0\n",
      "Mode: [6]\n"
     ]
    }
   ],
   "source": [
    "# Problem 34\n",
    "# Write a program that calculates the mean, median, and mode of a list of numbers using list comprehension.\n",
    "\n",
    "\n",
    "from collections import Counter\n",
    "\n",
    "def calculate_mean(numbers):\n",
    "    return sum(numbers) / len(numbers) if len(numbers) > 0 else 0\n",
    "\n",
    "def calculate_median(numbers):\n",
    "    sorted_numbers = sorted(numbers)\n",
    "    length = len(sorted_numbers)\n",
    "\n",
    "    if length % 2 == 0:\n",
    "        middle1 = sorted_numbers[length // 2 - 1]\n",
    "        middle2 = sorted_numbers[length // 2]\n",
    "        return (middle1 + middle2) / 2\n",
    "    else:\n",
    "        return sorted_numbers[length // 2]\n",
    "\n",
    "def calculate_mode(numbers):\n",
    "    counts = Counter(numbers)\n",
    "    max_count = max(counts.values())\n",
    "\n",
    "    mode = [key for key, value in counts.items() if value == max_count]\n",
    "    return mode\n",
    "\n",
    "\n",
    "user_numbers = [1, 2, 3, 4, 5, 5, 6, 6, 6, 7]\n",
    "mean_result = calculate_mean(user_numbers)\n",
    "median_result = calculate_median(user_numbers)\n",
    "mode_result = calculate_mode(user_numbers)\n",
    "\n",
    "print(f\"Original list of numbers: {user_numbers}\")\n",
    "print(f\"Mean: {mean_result}\")\n",
    "print(f\"Median: {median_result}\")\n",
    "print(f\"Mode: {mode_result}\")\n"
   ]
  },
  {
   "cell_type": "code",
   "execution_count": 34,
   "id": "38513bc9-1295-461a-9f00-3c30ea34b088",
   "metadata": {},
   "outputs": [
    {
     "name": "stdin",
     "output_type": "stream",
     "text": [
      "Enter the number of rows for Pascal's triangle:  7\n"
     ]
    },
    {
     "name": "stdout",
     "output_type": "stream",
     "text": [
      "[1, 1]\n",
      "[1, 2, 1]\n",
      "[1, 2, 2, 1]\n",
      "[1, 2, 2, 2, 1]\n",
      "[1, 2, 2, 2, 2, 1]\n",
      "[1, 2, 2, 2, 2, 2, 1]\n",
      "[1, 2, 2, 2, 2, 2, 2, 1]\n"
     ]
    }
   ],
   "source": [
    "# Problem 35\n",
    "# Create a program that generates Pascal's triangle up to a specified number of rows using list comprehension.\n",
    "\n",
    "\n",
    "def generate_pascals_triangle(rows):\n",
    "    triangle = [[1] + [sum(pair) for pair in zip(row, row[1:])] + [1] for row in\n",
    "                [([1] * (n + 1)) for n in range(rows)]]\n",
    "    return triangle\n",
    "\n",
    "\n",
    "user_rows = int(input(\"Enter the number of rows for Pascal's triangle: \"))\n",
    "pascals_triangle = generate_pascals_triangle(user_rows)\n",
    "\n",
    "\n",
    "for row in pascals_triangle:\n",
    "    print(row)\n"
   ]
  },
  {
   "cell_type": "code",
   "execution_count": 35,
   "id": "73595b23-263d-45cc-8300-84ae2dbaae44",
   "metadata": {},
   "outputs": [
    {
     "name": "stdout",
     "output_type": "stream",
     "text": [
      "Factorials and sums of digits:\n",
      "1! = 1, Sum of digits = 1\n",
      "2! = 2, Sum of digits = 2\n",
      "3! = 6, Sum of digits = 6\n",
      "4! = 24, Sum of digits = 6\n",
      "5! = 120, Sum of digits = 3\n"
     ]
    }
   ],
   "source": [
    "# Problem 36\n",
    "# Develop a program that calculates the sum of the digits of a factorial of numbers from 1 to 5 using list comprehension.\n",
    "\n",
    "\n",
    "import math\n",
    "\n",
    "\n",
    "def sum_of_digits(number):\n",
    "    return sum(int(digit) for digit in str(number))\n",
    "\n",
    "\n",
    "factorials_and_sums = [(n, sum_of_digits(math.factorial(n))) for n in range(1, 6)]\n",
    "\n",
    "\n",
    "print(\"Factorials and sums of digits:\")\n",
    "for n, digit_sum in factorials_and_sums:\n",
    "    print(f\"{n}! = {math.factorial(n)}, Sum of digits = {digit_sum}\")\n"
   ]
  },
  {
   "cell_type": "code",
   "execution_count": 36,
   "id": "0b34e352-5a22-47b1-a3be-d4e302ac0406",
   "metadata": {},
   "outputs": [
    {
     "name": "stdin",
     "output_type": "stream",
     "text": [
      "Enter a sentence:  Thiruvananthapuram\n"
     ]
    },
    {
     "name": "stdout",
     "output_type": "stream",
     "text": [
      "The longest word in the sentence is: Thiruvananthapuram\n"
     ]
    }
   ],
   "source": [
    "# Problem 37\n",
    "# Write a program that finds the longest word in a sentence using list comprehension.\n",
    "\n",
    "\n",
    "\n",
    "def find_longest_word(sentence):\n",
    "    words = sentence.split()\n",
    "    longest_word = max(words, key=len)\n",
    "    return longest_word\n",
    "\n",
    "user_sentence = input(\"Enter a sentence: \")\n",
    "longest_word_result = find_longest_word(user_sentence)\n",
    "\n",
    "print(f\"The longest word in the sentence is: {longest_word_result}\")\n"
   ]
  },
  {
   "cell_type": "code",
   "execution_count": 37,
   "id": "f2453b4c-2f53-4b10-ae46-c4acab640bd5",
   "metadata": {},
   "outputs": [
    {
     "name": "stdout",
     "output_type": "stream",
     "text": [
      "Original list of strings: ['hello', 'world', 'python', 'programming', 'vowels', 'aeiou', 'example']\n",
      "Filtered list with more than three vowels: ['aeiou']\n"
     ]
    }
   ],
   "source": [
    "# Problem 38\n",
    "#  Create a program that filters a list of strings to include only those with more than three vowels using list comprehension.\n",
    "\n",
    "\n",
    "def count_vowels(word):\n",
    "    return sum(1 for char in word.lower() if char in 'aeiou')\n",
    "\n",
    "def filter_strings_by_vowels(string_list):\n",
    "    filtered_list = [string for string in string_list if count_vowels(string) > 3]\n",
    "    return filtered_list\n",
    "\n",
    "\n",
    "input_strings = [\"hello\", \"world\", \"python\", \"programming\", \"vowels\", \"aeiou\", \"example\"]\n",
    "filtered_strings = filter_strings_by_vowels(input_strings)\n",
    "\n",
    "print(f\"Original list of strings: {input_strings}\")\n",
    "print(f\"Filtered list with more than three vowels: {filtered_strings}\")\n"
   ]
  },
  {
   "cell_type": "code",
   "execution_count": 38,
   "id": "a457a8b3-73f7-4052-ae27-005fde5ba39d",
   "metadata": {},
   "outputs": [
    {
     "name": "stdout",
     "output_type": "stream",
     "text": [
      "Sum of digits for numbers from 1 to 1000: 13501\n"
     ]
    }
   ],
   "source": [
    "# Problem 39\n",
    "#  Develop a program that calculates the sum of the digits of numbers from 1 to 1000 using list comprehension.\n",
    "\n",
    "\n",
    "\n",
    "\n",
    "def sum_of_digits(number):\n",
    "    return sum(int(digit) for digit in str(number))\n",
    "\n",
    "\n",
    "sum_of_digits_list = [sum_of_digits(n) for n in range(1, 1001)]\n",
    "\n",
    "\n",
    "print(f\"Sum of digits for numbers from 1 to 1000: {sum(sum_of_digits_list)}\")\n"
   ]
  },
  {
   "cell_type": "code",
   "execution_count": 47,
   "id": "f88fbe89-27e9-4513-a2b6-36abecd12f99",
   "metadata": {},
   "outputs": [
    {
     "name": "stdout",
     "output_type": "stream",
     "text": [
      "Prime palindromic numbers: [2, 3, 5, 7, 11, 101, 131, 151, 181, 191, 313, 353, 373, 383, 727, 757, 787, 797, 919, 929]\n"
     ]
    }
   ],
   "source": [
    "# Problem 40\n",
    "# Write a program that generates a list of prime palindromic numbers using list comprehension.\n",
    "\n",
    "\n",
    "def is_prime(number):\n",
    "    if number < 2:\n",
    "        return False\n",
    "    for i in range(2, int(number**0.5) + 1):\n",
    "        if number % i == 0:\n",
    "            return False\n",
    "    return True\n",
    "\n",
    "def is_palindrome(number):\n",
    "    return str(number) == str(number)[::-1]\n",
    "\n",
    "\n",
    "prime_palindromes = [num for num in range(1, 1000) if is_prime(num) and is_palindrome(num)]\n",
    "\n",
    "\n",
    "print(f\"Prime palindromic numbers: {prime_palindromes}\")\n"
   ]
  },
  {
   "cell_type": "code",
   "execution_count": null,
   "id": "4444991c-4d4b-4321-9441-488569a810df",
   "metadata": {},
   "outputs": [],
   "source": []
  }
 ],
 "metadata": {
  "kernelspec": {
   "display_name": "Python 3 (ipykernel)",
   "language": "python",
   "name": "python3"
  },
  "language_info": {
   "codemirror_mode": {
    "name": "ipython",
    "version": 3
   },
   "file_extension": ".py",
   "mimetype": "text/x-python",
   "name": "python",
   "nbconvert_exporter": "python",
   "pygments_lexer": "ipython3",
   "version": "3.10.8"
  }
 },
 "nbformat": 4,
 "nbformat_minor": 5
}
